{
 "cells": [
  {
   "attachments": {},
   "cell_type": "markdown",
   "metadata": {},
   "source": [
    "# Đề thi"
   ]
  },
  {
   "attachments": {},
   "cell_type": "markdown",
   "metadata": {},
   "source": [
    "## Câu 1 (2đ)\n",
    "Có hai hộp A và B. Hộp A có 6 thẻ xanh và 3 thẻ đỏ, hộp B có 2 thẻ xanh và 5 thẻ đỏ. Lấy ngẫu nhiên một hộp, rồi từ hộp đó lấy ra một thẻ và được thẻ đỏ. Tính xác suất để thẻ đó được lấy từ hộp B."
   ]
  },
  {
   "attachments": {},
   "cell_type": "markdown",
   "metadata": {},
   "source": [
    "## Câu 2 (1đ)\n",
    "Cho hàm số $f\\left( x \\right) = \\begin{cases}\n",
    "A{e^{ - 2x}} & \\text{nếu } x\\ge 0 \\\\\n",
    "0 & \\text{nếu } x < 0\n",
    "\\end{cases}$\n",
    "* Xác định $A$ để $f\\left( x \\right)$ là hàm mật độ xác suất của đại lượng ngẫu nhiên $X$ nào đó.\n",
    "* Tính $E\\left( {3X} \\right)$, $D\\left( {2X - 1} \\right)$, và $P\\left( {0 < 2X + 1 < 2} \\right)$."
   ]
  },
  {
   "attachments": {},
   "cell_type": "markdown",
   "metadata": {},
   "source": [
    "## Câu 3 (2đ)\n",
    "Cho hàm mật độ xác suất đồng thời của véctơ ngẫu nhiên $\\left( {X,Y} \\right)$\n",
    "$$\n",
    "f\\left( {x,y} \\right) = \\begin{cases}\n",
    "4{e^{ - 2\\left( {x + y} \\right)}} & \\text{nếu } \\left( {x,y} \\right) \\in \\left[ {0,\\infty } \\right) \\times \\left[ {0,\\infty } \\right) \\\\\n",
    "0 & \\text{nếu } \\left( {x,y} \\right) \\notin \\left[ {0,\\infty } \\right) \\times \\left[ {0,\\infty } \\right)\n",
    "\\end{cases}\n",
    "$$\n",
    "\n",
    "* Tính $E\\left( {2Y + 1} \\right)$ và $D\\left( {3Y} \\right)$\n",
    "* Tính $P\\left( {X > 1} \\right)$"
   ]
  },
  {
   "attachments": {},
   "cell_type": "markdown",
   "metadata": {},
   "source": [
    "## Câu 4 (2.5đ)\n",
    "Tuổi thọ của một loại máy tính là đại lượng ngẫu nhiên $X$ (tháng) có phân bố chuẩn. Thu thập số liệu về $X$ ta có\n",
    "<center>\n",
    "\n",
    "| $X$ | 32 - 34 | 34 - 36 | 36 - 38 | 38 - 40 |\n",
    "| :-: | :-: | :-: | :-: | :-: |\n",
    "| Số máy | 5 | 18 | 15 | 12 |\n",
    "</center>\n",
    "\n",
    "Với độ tin cậy 90% hãy ước lượng cho phương sai $DX$."
   ]
  },
  {
   "attachments": {},
   "cell_type": "markdown",
   "metadata": {},
   "source": [
    "## Câu 5 (2.5đ)\n",
    "Thu thập số liệu về đại lượng ngẫu nhiên $X$ có phân bố chuẩn, ta có\n",
    "<center>\n",
    "\n",
    "| $X$ | 12 - 14 | 14 - 16 | 16 - 18 | 18 - 20 | 20 - 22 |\n",
    "| :-: | :-: | :-: | :-: | :-: | :-: |\n",
    "| $n_i$ | 8 | 12 | 14 | 10 | 16 |\n",
    "</center>\n",
    "\n",
    "Với mức ý nghĩa 1% hãy kiểm định xem giá trị trung bình của $X$ có bằng 16.5 không?"
   ]
  },
  {
   "attachments": {},
   "cell_type": "markdown",
   "metadata": {},
   "source": [
    "# Đáp án"
   ]
  },
  {
   "attachments": {},
   "cell_type": "markdown",
   "metadata": {},
   "source": [
    "## Câu 1 (2đ)\n",
    "Cần tính $P\\big(\\text{lấy được hộp B}\\mid \\text{lấy được thẻ đỏ}\\big)$\n",
    "* $H_1 = $ {lấy được hộp A}, $H_2 = $ {lấy được hộp B}\n",
    "<span style=\"float: right;\">0.5đ</span>\n",
    "\n",
    "$\\{H_1, H_2\\}$ là hệ biến cố đầy đủ; $P\\left( {{H_1}} \\right) = P\\left( {{H_2}} \\right) = \\dfrac{1}{2}$\n",
    "\n",
    "* $A = $ {lấy được thẻ đỏ}\n",
    "<span style=\"float: right;\">0.5đ</span>\n",
    "\n",
    "$P\\left( {A\\mid{H_1}} \\right) = \\dfrac{3}{9}$, $P\\left( {A\\mid{H_2}} \\right) = \\dfrac{5}{7}$, \n",
    "\n",
    "* $P\\left( A \\right) = P\\left( {{H_1}} \\right) \\times P\\left( {A\\mid {H_1}} \\right) + P\\left( {{H_2}} \\right) \\times P\\left( {A\\mid {H_2}} \\right) = \\dfrac{{11}}{{21}} = 0.5238$\n",
    "<span style=\"float: right;\">0.5đ</span>\n",
    "\n",
    "```mathematica\n",
    "pA = 1/2*3/9 + 1/2*5/7\n",
    "pA // N\n",
    "```\n",
    "\n",
    "* Cần tính $P\\left( {{H_2}\\mid A} \\right) = \\dfrac{{P\\left( {{H_2}} \\right) \\times P\\left( {A\\mid {H_2}} \\right)}}{{P\\left( A \\right)}} = \\dfrac{{\\dfrac{1}{2} \\times \\dfrac{5}{7}}}{{\\dfrac{{11}}{{21}}}} = \\dfrac{15}{22} = 0.6818$\n",
    "<span style=\"float: right;\">0.5đ</span>\n",
    "\n",
    "```mathematica\n",
    "p = 1/2*5/7/pA\n",
    "p // N\n",
    "```"
   ]
  },
  {
   "attachments": {},
   "cell_type": "markdown",
   "metadata": {},
   "source": [
    "## Câu 2 (1đ)\n",
    "* $\\displaystyle \\int_{ - \\infty }^\\infty  {f\\left( x \\right)dx}  = 1 \\Rightarrow \\frac{A}{2} = 1 \\Rightarrow A = 2$\n",
    "<span style=\"float: right;\">0.5đ</span>"
   ]
  },
  {
   "attachments": {},
   "cell_type": "markdown",
   "metadata": {},
   "source": [
    "```mathematica\n",
    "f[x_] := If[x >= 0, A*E^(-2 x), 0]\n",
    "Integrate[f[x], {x, -Infinity, Infinity}]\n",
    "A = 2\n",
    "```"
   ]
  },
  {
   "attachments": {},
   "cell_type": "markdown",
   "metadata": {},
   "source": [
    "* $\\displaystyle E\\left( {3X} \\right) = \\int_{ - \\infty }^\\infty  {\\left( {3x} \\right)f\\left( x \\right)dx}  = \\frac{3}{2}$\n",
    "<span style=\"float: right;\">0.5đ</span>\n",
    "\n",
    "```mathematica\n",
    "Integrate[(3 x) f[x], {x, -Infinity, Infinity}]\n",
    "```\n",
    "\n",
    "$\\displaystyle E\\left( {2X - 1} \\right) = \\int_{ - \\infty }^\\infty  {\\left( {2x - 1} \\right)f\\left( x \\right)dx}  = 0$\n",
    "\n",
    "$\\displaystyle E\\left[ {{{\\left( {2X - 1} \\right)}^2}} \\right] = \\int_{ - \\infty }^\\infty  {{{\\left( {2x - 1} \\right)}^2}f\\left( x \\right)dx}  = 1$\n",
    "\n",
    "$\\Rightarrow D\\left( {2X - 1} \\right) = E\\left[ {{{\\left( {2X - 1} \\right)}^2}} \\right] - {\\left[ {E\\left( {2X - 1} \\right)} \\right]^2} = 1 - {0^2} = 1$\n",
    "\n",
    "```mathematica\n",
    "e = Integrate[(2 x - 1) f[x], {x, -Infinity, Infinity}]\n",
    "e2 = Integrate[(2 x - 1)^2*f[x], {x, -Infinity, Infinity}]\n",
    "d = e2 - e^2\n",
    "```\n",
    "\n",
    "$\\displaystyle P\\left( {0 < 2X + 1 < 2} \\right) = P\\left( { - \\frac{1}{2} < X < \\frac{1}{2}} \\right) = \\int_{ - \\frac{1}{2}}^{\\frac{1}{2}} {f\\left( x \\right)dx}  = \\frac{{ - 1 + e}}{e} = 0.6321$\n",
    "\n",
    "```mathematica\n",
    "p = Integrate[f[x], {x, -1/2, 1/2}]\n",
    "p // N\n",
    "```"
   ]
  },
  {
   "attachments": {},
   "cell_type": "markdown",
   "metadata": {},
   "source": [
    "## Câu 3 (2đ)\n",
    "* $\\displaystyle E\\left( {2Y + 1} \\right) = \\iint\\limits_{{\\Bbb R^2}} {\\left( {2y + 1} \\right)f\\left( {x,y} \\right)dxdy} = 2$\n",
    "<span style=\"float: right;\">0.5đ</span>"
   ]
  },
  {
   "attachments": {},
   "cell_type": "markdown",
   "metadata": {},
   "source": [
    "```mathematica\n",
    "f[x_, y_] := If[x >= 0 && y >= 0, 4 E^(-2 (x + y)), 0]\n",
    "\n",
    "Integrate[(2 y + 1) f[x, y], {x, -Infinity, Infinity}, {y, -Infinity, \n",
    "  Infinity}]\n",
    "```"
   ]
  },
  {
   "attachments": {},
   "cell_type": "markdown",
   "metadata": {},
   "source": [
    "* $\\displaystyle E\\left( {3Y} \\right) = \\iint\\limits_{{\\Bbb R^2}} {\\left( {3y} \\right)f\\left( {x,y} \\right)dxdy} = \\frac{3}{2}$\n",
    "<span style=\"float: right;\">0.5đ</span>\n",
    "\n",
    "$\\displaystyle E\\left[ {{{\\left( {3Y} \\right)}^2}} \\right] = \\iint\\limits_{{\\Bbb R^2}} {{{\\left( {3y} \\right)}^2}f\\left( {x,y} \\right)dxdy} = \\frac{9}{2}$\n",
    "\n",
    "$\\Rightarrow D\\left( {3Y} \\right) = E\\left[ {{{\\left( {3Y} \\right)}^2}} \\right] - {\\left[ {E\\left( {3Y} \\right)} \\right]^2} = \\dfrac{9}{2} - {\\left( {\\dfrac{3}{2}} \\right)^2} = \\dfrac{9}{4}$\n",
    "<span style=\"float: right;\">0.5đ</span>\n"
   ]
  },
  {
   "attachments": {},
   "cell_type": "markdown",
   "metadata": {},
   "source": [
    "```mathematica\n",
    "e  = Integrate[ 3 y   *f[x, y], {x, -Infinity, Infinity}, {y, -Infinity, Infinity}]\n",
    "e2 = Integrate[(3 y)^2*f[x, y], {x, -Infinity, Infinity}, {y, -Infinity, Infinity}]\n",
    "d = e2 - e^2\n",
    "```"
   ]
  },
  {
   "attachments": {},
   "cell_type": "markdown",
   "metadata": {},
   "source": [
    "* $\\displaystyle P\\left( {X > 1} \\right) = \\iint\\limits_{x > 1} {f\\left( {x,y} \\right)dxdy} = \\frac{1}{{{e^2}}} = 0.1353$\n",
    "<span style=\"float: right;\">0.5đ</span>"
   ]
  },
  {
   "attachments": {},
   "cell_type": "markdown",
   "metadata": {},
   "source": [
    "```mathematica\n",
    "p = Integrate[f[x, y], {y, -Infinity, Infinity}, {x, 1, Infinity}]\n",
    "p // N\n",
    "```"
   ]
  },
  {
   "attachments": {},
   "cell_type": "markdown",
   "metadata": {},
   "source": [
    "## Câu 4 (2.5đ)\n",
    "* Khoảng tin cậy của $DX$\n",
    "<span style=\"float: right;\">0.5đ</span>\n",
    "$$\n",
    "\\left( {\\frac{{n{s^2}}}{{\\chi _L^2}},\\;\\frac{{n{s^2}}}{{\\chi _R^2}}} \\right) = \\left( {\\frac{{\\left( {n - 1} \\right)s{'^2}}}{{\\chi _L^2}},\\;\\frac{{\\left( {n - 1} \\right)s{'^2}}}{{\\chi _R^2}}} \\right)\n",
    "$$\n",
    "\n",
    "* Bảng giá trị\n",
    "<span style=\"float: right;\">0.5đ</span>\n",
    "<center>\n",
    "\n",
    "| $X$ | 33 | 35 | 37 | 39 |\n",
    "| :-: | :-: | :-: | :-: | :-: |\n",
    "| Số máy | 5 | 18 | 15 | 12 |\n",
    "</center>\n",
    "\n",
    "$n = 50$"
   ]
  },
  {
   "attachments": {},
   "cell_type": "markdown",
   "metadata": {},
   "source": [
    "```mathematica\n",
    "X = Join[\n",
    "  Table[33, {5 }],\n",
    "  Table[35, {18}],\n",
    "  Table[37, {15}],\n",
    "  Table[39, {12}]\n",
    "  ]\n",
    "\n",
    "n = Length[X]\n",
    "```"
   ]
  },
  {
   "attachments": {},
   "cell_type": "markdown",
   "metadata": {},
   "source": [
    "* $s{'^2} = 3.6637$\n",
    "<span style=\"float: right;\">0.5đ</span>"
   ]
  },
  {
   "attachments": {},
   "cell_type": "markdown",
   "metadata": {},
   "source": [
    "```mathematica\n",
    "sDc2 = Variance[X] // N\n",
    "```"
   ]
  },
  {
   "attachments": {},
   "cell_type": "markdown",
   "metadata": {},
   "source": [
    "* $\\chi _L^2 = {\\chi ^2}\\left( {\\dfrac{{1 - \\gamma }}{2},n - 1} \\right) = {\\chi ^2}\\left( {\\dfrac{{1 - 90\\% }}{2},50 - 1} \\right) = {\\chi ^2}\\left( {0.05,49} \\right) = 66.3386$\n",
    "<span style=\"float: right;\">0.5đ</span>\n",
    "\n",
    "$\\chi _R^2 = {\\chi ^2}\\left( {\\dfrac{{1 + \\gamma }}{2},n - 1} \\right) = {\\chi ^2}\\left( {\\dfrac{{1 + 90\\% }}{2},50 - 1} \\right) = {\\chi ^2}\\left( {0.95,49} \\right) = 33.9303$"
   ]
  },
  {
   "attachments": {},
   "cell_type": "markdown",
   "metadata": {},
   "source": [
    "```mathematica\n",
    "chiL = Quantile[ChiSquareDistribution[n - 1], 1 - 0.05]\n",
    "chiR = Quantile[ChiSquareDistribution[n - 1], 1 - 0.95]\n",
    "```"
   ]
  },
  {
   "attachments": {},
   "cell_type": "markdown",
   "metadata": {},
   "source": [
    "* Khoảng tin cậy cần tìm $\\left( 2.7061,\\; 5.2909 \\right)$\n",
    "<span style=\"float: right;\">0.5đ</span>"
   ]
  },
  {
   "attachments": {},
   "cell_type": "markdown",
   "metadata": {},
   "source": [
    "```mathematica\n",
    "(n - 1) sDc2/chiL\n",
    "(n - 1) sDc2/chiR\n",
    "```"
   ]
  },
  {
   "attachments": {},
   "cell_type": "markdown",
   "metadata": {},
   "source": [
    "## Câu 5 (2.5đ)\n",
    "${H_0}:EX = 16.5,\\quad{H_1}:EX \\ne 16.5,\\quad\\alpha  = 1\\%$\n",
    "\n",
    "* Bảng giá trị\n",
    "<span style=\"float: right;\">0.5đ</span>\n",
    "<center>\n",
    "\n",
    "| $X$ | 13 | 15 | 17 | 19 | 21 |\n",
    "| :-: | :-: | :-: | :-: | :-: | :-: |\n",
    "| $n_i$ | 8 | 12 | 14 | 10 | 16 |\n",
    "</center>\n",
    "\n",
    "$n = 60$\n",
    "\n",
    "$\\overline x = 17.4667$\n",
    "\n",
    "* $s' = 2.789$\n",
    "<span style=\"float: right;\">0.5đ</span>"
   ]
  },
  {
   "attachments": {},
   "cell_type": "markdown",
   "metadata": {},
   "source": [
    "```mathematica\n",
    "X = Join[\n",
    "  Table[13, {8 }],\n",
    "  Table[15, {12}],\n",
    "  Table[17, {14}],\n",
    "  Table[19, {10}],\n",
    "  Table[21, {16}]\n",
    "  ]\n",
    "\n",
    "n = Length[X]\n",
    "xNg = Mean[X] // N\n",
    "sDc = StandardDeviation[X] // N\n",
    "```"
   ]
  },
  {
   "attachments": {},
   "cell_type": "markdown",
   "metadata": {},
   "source": [
    "* ${t_{qs}} = \\dfrac{{\\overline x  - {a_0}}}{{s'}}\\sqrt n  = \\dfrac{17.4667 - 16.5}{2.789}\\sqrt{60} = 2.68475 $\n",
    "<span style=\"float: right;\">0.5đ</span>"
   ]
  },
  {
   "attachments": {},
   "cell_type": "markdown",
   "metadata": {},
   "source": [
    "```mathematica\n",
    "tQs = (xNg - 16.5)/sDc*Sqrt[n]\n",
    "```"
   ]
  },
  {
   "attachments": {},
   "cell_type": "markdown",
   "metadata": {},
   "source": [
    "* ${t_0} = t_\\alpha ^{n - 1} = t_{1\\% }^{60 - 1} = 2.6618$\n",
    "<span style=\"float: right;\">0.5đ</span>"
   ]
  },
  {
   "attachments": {},
   "cell_type": "markdown",
   "metadata": {},
   "source": [
    "```mathematica\n",
    "t0 = -Quantile[StudentTDistribution[n - 1], 0.01/2]\n",
    "```"
   ]
  },
  {
   "attachments": {},
   "cell_type": "markdown",
   "metadata": {},
   "source": [
    "* $\\left| {{t_{qs}}} \\right| > {t_0} \\Rightarrow$ bác bỏ $H_0$ (chấp nhận $H_1$), tức là giá trị trung bình của $X$ khác 16.5"
   ]
  },
  {
   "attachments": {},
   "cell_type": "markdown",
   "metadata": {},
   "source": []
  }
 ],
 "metadata": {
  "language_info": {
   "name": "python"
  },
  "orig_nbformat": 4
 },
 "nbformat": 4,
 "nbformat_minor": 2
}
