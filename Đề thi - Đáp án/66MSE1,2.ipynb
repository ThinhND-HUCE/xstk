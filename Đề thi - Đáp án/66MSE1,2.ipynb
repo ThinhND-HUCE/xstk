{
 "cells": [
  {
   "attachments": {},
   "cell_type": "markdown",
   "metadata": {},
   "source": [
    "# Đề thi"
   ]
  },
  {
   "attachments": {},
   "cell_type": "markdown",
   "metadata": {},
   "source": [
    "## Câu 1 (2đ)\n",
    "Ba người chơi bóng rổ, mỗi người ném một quả. Xác suất ném lọt qua rổ của mỗi người lần lượt là 0.7, 0.8, 0.75.\n",
    "\n",
    "* Tính xác suất để cả ba người đều ném không lọt qua rổ.\n",
    "* Tính xác suất để chỉ có một người ném lọt qua rổ."
   ]
  },
  {
   "attachments": {},
   "cell_type": "markdown",
   "metadata": {},
   "source": [
    "## Câu 2 (2đ)\n",
    "Cho hàm số $f\\left( x \\right) = \n",
    "\\begin{cases}\n",
    "3e^{-3x} & \\text{nếu } x\\ge 0 \\\\\n",
    "0 & \\text{nếu } x < 0\n",
    "\\end{cases}$\n",
    "* Tính $E\\left( {3X - 2} \\right)$\n",
    "* Tính $P\\left( {0 < 2X + 1 < 2} \\right)$"
   ]
  },
  {
   "attachments": {},
   "cell_type": "markdown",
   "metadata": {},
   "source": [
    "## Câu 3 (2đ)\n",
    "Cho bảng phân bố xác suất đồng thời của hai biến ngẫu nhiên $X$ và $Y$\n",
    "<center>\n",
    "\n",
    "| $X \\backslash  Y$ | 1 | 2 | 3 |\n",
    "| :-: | :-: | :-: | :-: |\n",
    "| $-1$ | 0.1 | 0.2 | 0.25 |\n",
    "| 2 | 0.05 | $a$ | 0.1 |\n",
    "| 4 | 0.05 | 0.1 | 0.05 ||\n",
    "</center>\n",
    "\n",
    "* Tìm $a$\n",
    "* Tính $EX$ và $P\\left( {X + Y < 2} \\right)$"
   ]
  },
  {
   "attachments": {},
   "cell_type": "markdown",
   "metadata": {},
   "source": [
    "## Câu 4 (2đ)\n",
    "Điểm thi Toeic của sinh viên là đại lượng ngẫu nhiên có phân bố chuẩn. Thống kê điểm thi của một lớp 40 sinh viên, ta có số liệu\n",
    "<center>\n",
    "\n",
    "| $X$ (điểm thi) | 460 - 500 | 500 - 540 | 540 - 580 | 580 - 600 |\n",
    "| :-: | :-: | :-: | :-: | :-: |\n",
    "| $n_i$ | 5 | 15 | 14 | 6 |\n",
    "</center>\n",
    "\n",
    "Với độ tin cậy 85%, hãy ước lượng khoảng cho $EX$."
   ]
  },
  {
   "attachments": {},
   "cell_type": "markdown",
   "metadata": {},
   "source": [
    "## Câu 5 (2đ)\n",
    "Cho số liệu thống kê về số lần xảy ra của hệ đầy đủ các biến cố $\\{A_1, A_2, A_3, A_4\\}$\n",
    "<center>\n",
    "\n",
    "| Biến cố | $A_1$ | $A_2$ | $A_3$ | $A_4$ |\n",
    "| :-: | :-: | :-: | :-: | :-: |\n",
    "| $n_i$ | 22 | 28 | 26 | 24 |\n",
    "</center>\n",
    "\n",
    "Với mức ý nghĩa 1%, hãy kiểm định xem xác suất xảy ra các biến cố $P\\left( {{A_1}} \\right) = 0.2$, $P\\left( {{A_2}} \\right) = 0.3$, $P\\left( {{A_3}} \\right) = 0.25$, $P\\left( {{A_4}} \\right) = 0.25$ có đúng hay không?"
   ]
  },
  {
   "attachments": {},
   "cell_type": "markdown",
   "metadata": {},
   "source": [
    "# Đáp án"
   ]
  },
  {
   "attachments": {},
   "cell_type": "markdown",
   "metadata": {},
   "source": [
    "## Câu 1 (2đ)\n",
    "$A_i = $ {người $i$ ném bóng lọt rổ}, $i = 1, 2, 3$.\n",
    "<span style=\"float: right;\">0.5đ</span>\n",
    "$A_1, A_2, A_3$ độc lập, và $P\\left( {{A_1}} \\right) = 0.7$, $P\\left( {{A_2}} \\right) = 0.8$, $P\\left( {{A_3}} \\right) = 0.75$\n",
    "\n",
    "* $A = $ {cả ba người đều không ném lọt rổ} = $\\overline {{A_1}} \\;\\overline {{A_2}} \\;\\overline {{A_3}} $\n",
    "<span style=\"float: right;\">0.5đ</span>\n",
    "\n",
    "$P\\left( A \\right) = P\\left( {\\overline {{A_1}} \\;\\overline {{A_2}} \\;\\overline {{A_3}} } \\right) = P\\left( {\\overline {{A_1}} } \\right) \\times P\\left( {\\overline {{A_2}} } \\right) \\times P\\left( {\\overline {{A_3}} } \\right) = \\left( {1 - 0.7} \\right)\\left( {1 - 0.8} \\right)\\left( {1 - 0.9} \\right)= 0.006$\n",
    "<span style=\"float: right;\">0.5đ</span>"
   ]
  },
  {
   "attachments": {},
   "cell_type": "markdown",
   "metadata": {},
   "source": [
    "```mathematica\n",
    "p1 = 0.7\n",
    "p2 = 0.8\n",
    "p3 = 0.9\n",
    "(1 - p1) (1 - p2) (1 - p3)\n",
    "```"
   ]
  },
  {
   "attachments": {},
   "cell_type": "markdown",
   "metadata": {},
   "source": [
    "* $B =$ {có đúng một người ném lọt rổ} $= {A_1}\\overline {{A_2}} \\;\\overline {{A_3}}  + \\overline {{A_1}} {A_2}\\overline {{A_3}}  + \\overline {{A_1}} \\;\\overline {{A_2}} {A_3}$\n",
    "<span style=\"float: right;\">0.5đ</span>\n",
    "\n",
    "$P\\left( B \\right) = 0.7 \\times 0.2 \\times 0.25 + 0.3 \\times 0.8 \\times 0.25 + 0.3 \\times 0.2 \\times 0.75 = 0.092$"
   ]
  },
  {
   "attachments": {},
   "cell_type": "markdown",
   "metadata": {},
   "source": [
    "```mathematica\n",
    "p1 (1 - p2) (1 - p3) + (1 - p1) p2 (1 - p3) + (1 - p1) (1 - p2) p3\n",
    "```"
   ]
  },
  {
   "attachments": {},
   "cell_type": "markdown",
   "metadata": {},
   "source": [
    "## Câu 2 (2đ)\n",
    "* $\\displaystyle E\\left( {3X - 2} \\right) = \\int_{ - \\infty }^\\infty  {\\left( {3x - 2} \\right)f\\left( x \\right)dx}  =  - 1$\n",
    "<span style=\"float: right;\">0.5đ + 0.5đ</span>"
   ]
  },
  {
   "attachments": {},
   "cell_type": "markdown",
   "metadata": {},
   "source": [
    "```mathematica\n",
    "f[x_] := If[x >= 0, 3 E^(-3 x), 0]\n",
    "Integrate[(3 x - 2) f[x], {x, -Infinity, Infinity}]\n",
    "```"
   ]
  },
  {
   "attachments": {},
   "cell_type": "markdown",
   "metadata": {},
   "source": [
    "* $\\displaystyle P\\left( {0 < 2X + 1 < 2} \\right) = P\\left( { - \\frac{1}{2} < X < \\frac{1}{2}} \\right) = \\int_{ - \\frac{1}{2}}^{\\frac{1}{2}} {f\\left( x \\right)dx}  = 1 - \\frac{1}{{{e^{3/2}}}} = 0.7769$\n",
    "<span style=\"float: right;\">0.5đ + 0.5đ</span>"
   ]
  },
  {
   "attachments": {},
   "cell_type": "markdown",
   "metadata": {},
   "source": [
    "```mathematica\n",
    "p = Integrate[f[x], {x, -1/2, 1/2}]\n",
    "p // N\n",
    "```"
   ]
  },
  {
   "attachments": {},
   "cell_type": "markdown",
   "metadata": {},
   "source": [
    "## Câu 3 (2đ)\n",
    "* $(0.1 + 0.2 + 0.25) + (0.05 + a + 0.1) + (0.05 + 0.1 + 0.05) = 1\\Rightarrow a = 0.1$\n",
    "<span style=\"float: right;\">0.5đ</span>"
   ]
  },
  {
   "attachments": {},
   "cell_type": "markdown",
   "metadata": {},
   "source": [
    "```mathematica\n",
    "1 - 0.1 - 0.2 - 0.25 - 0.05 - 0.1 - 0.05 - 0.1 - 0.05\n",
    "```"
   ]
  },
  {
   "attachments": {},
   "cell_type": "markdown",
   "metadata": {},
   "source": [
    "* Bảng phân bố xác suất của $X$\n",
    "<span style=\"float: right;\">0.5đ</span>\n",
    "<center>\n",
    "\n",
    "| $X$ | $P$ | $P$ |\n",
    "| :-: | :-: | :-: |\n",
    "| $-1$ | $0.1 + 0.2 + 0.25$ | 0.55 |\n",
    "| 2 | $0.05 + 0.1 + 0.1$ | 0.25 |\n",
    "| 4 | $0.05 + 0.1 + 0.05$ | 0.2 |\n",
    "</center>\n",
    "\n",
    "$EX =  - 1 \\times 0.55 + 2 \\times 0.25 + 4 \\times 0.2 = 0.75$\n",
    "<span style=\"float: right;\">0.5đ</span>"
   ]
  },
  {
   "attachments": {},
   "cell_type": "markdown",
   "metadata": {},
   "source": [
    "```mathematica\n",
    "-1*0.55 + 2*0.25 + 4*0.2\n",
    "```"
   ]
  },
  {
   "attachments": {},
   "cell_type": "markdown",
   "metadata": {},
   "source": [
    "* $\\displaystyle P\\left( {X + Y < 2} \\right) = \\sum\\limits_{{x_i} + {y_j} < 2} {{p_{ij}}}  = 0.1 + 0.2 = 0.3$\n",
    "<span style=\"float: right;\">0.5đ</span>"
   ]
  },
  {
   "attachments": {},
   "cell_type": "markdown",
   "metadata": {},
   "source": [
    "## Câu 4 (2đ)\n",
    "* Khoảng tin cậy của $EX$\n",
    "<span style=\"float: right;\">0.5đ</span>\n",
    "$$\n",
    "\\left( {\\overline x  - {t_0}\\frac{{s'}}{{\\sqrt n }},\\;\\overline x  + {t_0}\\frac{{s'}}{{\\sqrt n }}} \\right)\n",
    "$$\n",
    "* Bảng giá trị\n",
    "<span style=\"float: right;\">0.5đ</span>\n",
    "<center>\n",
    "\n",
    "| $X$ | 480 | 520 | 560 | 590 |\n",
    "| :-: | :-: | :-: | :-: | :-: |\n",
    "| $n_i$ | 5 | 15 | 14 | 6 |\n",
    "</center>\n",
    "\n",
    "$\\overline x = 539.5,\\quad s' = 33.8132$"
   ]
  },
  {
   "attachments": {},
   "cell_type": "markdown",
   "metadata": {},
   "source": [
    "```mathematica\n",
    "X = Join[\n",
    "  Table[480, {5}],\n",
    "  Table[520, {15}],\n",
    "  Table[560, {14}],\n",
    "  Table[590, {6}]\n",
    "  ]\n",
    "\n",
    "xNg = Mean[X] // N\n",
    "sDc = StandardDeviation[X] // N\n",
    "```"
   ]
  },
  {
   "attachments": {},
   "cell_type": "markdown",
   "metadata": {},
   "source": [
    "* $t_0 = t_{1-\\gamma}^{n-1} = t_{1 - 85\\%}^{40-1} = t_{0.15}^{39} = 1.4685$\n",
    "<span style=\"float: right;\">0.5đ</span>"
   ]
  },
  {
   "attachments": {},
   "cell_type": "markdown",
   "metadata": {},
   "source": [
    "```mathematica\n",
    "n = Length[X]\n",
    "t0 = -Quantile[StudentTDistribution[n - 1], 0.15/2]\n",
    "```"
   ]
  },
  {
   "attachments": {},
   "cell_type": "markdown",
   "metadata": {},
   "source": [
    "* Khoảng tin cậy cần tìm $\\left( 531.649,\\; 547.351 \\right)$\n",
    "<span style=\"float: right;\">0.5đ</span>"
   ]
  },
  {
   "attachments": {},
   "cell_type": "markdown",
   "metadata": {},
   "source": [
    "```mathematica\n",
    "xNg - t0*sDc/Sqrt[n]\n",
    "xNg + t0*sDc/Sqrt[n]\n",
    "```"
   ]
  },
  {
   "attachments": {},
   "cell_type": "markdown",
   "metadata": {},
   "source": [
    "### Câu 5 (2đ)\n",
    "\n",
    "* Bảng tính\n",
    "<span style=\"float: right;\">1đ</span>\n",
    "<center>\n",
    "\n",
    "| $n_i$ | $p_{i0}$ | $e_i$ | $\\dfrac{(n_i - e_i)^2}{e_i}$\n",
    "|:-:|:-:|:-:|:-:|\n",
    "| 22 | 0.2  | 20 | 0.2 |\n",
    "| 28 | 0.3  | 30 | 0.1333 |\n",
    "| 26 | 0.25 | 25 | 0.04 |\n",
    "| 24 | 0.25 | 25 | 0.04 |\n",
    "||| $\\sum$ | 0.4133 |\n",
    "</center>\n",
    "\n",
    "cho ta $\\chi _{qs}^2 = 0.4133$"
   ]
  },
  {
   "attachments": {},
   "cell_type": "markdown",
   "metadata": {},
   "source": [
    "```mathematica\n",
    "n = {22, 28, 26, 24}\n",
    "p0 = {0.2, 0.3, 0.25, 0.25}\n",
    "\n",
    "size = Total[n]\n",
    "e = size*p0\n",
    "t = (n - e)^2/e\n",
    "chiQs = Total[t]\n",
    "```"
   ]
  },
  {
   "attachments": {},
   "cell_type": "markdown",
   "metadata": {},
   "source": [
    "* $\\chi^2_0 = \\chi^2\\left( \\alpha, h-1 \\right) = \\chi^2 (1\\%, 4 - 1) = 11.3449$\n",
    "<span style=\"float: right;\">0.5đ</span>"
   ]
  },
  {
   "attachments": {},
   "cell_type": "markdown",
   "metadata": {},
   "source": [
    "```mathematica\n",
    "h = Length[p0]\n",
    "alpha = 0.01\n",
    "chi0 = Quantile[ChiSquareDistribution[h - 1], 1 - alpha]\n",
    "```"
   ]
  },
  {
   "attachments": {},
   "cell_type": "markdown",
   "metadata": {},
   "source": [
    "$\\chi^2_{qs} < \\chi^2_0\\Rightarrow$ chấp nhận giả thuyết đã nêu.\n",
    "<span style=\"float: right;\">0.5đ</span>"
   ]
  }
 ],
 "metadata": {
  "kernelspec": {
   "display_name": "Python 3.8.12 64-bit",
   "language": "python",
   "name": "python3"
  },
  "language_info": {
   "codemirror_mode": {
    "name": "ipython",
    "version": 3
   },
   "file_extension": ".py",
   "mimetype": "text/x-python",
   "name": "python",
   "nbconvert_exporter": "python",
   "pygments_lexer": "ipython3",
   "version": "3.11.4"
  },
  "orig_nbformat": 4,
  "vscode": {
   "interpreter": {
    "hash": "52634da84371cba311ea128a5ea7cdc41ff074b781779e754b270ff9f8153cee"
   }
  }
 },
 "nbformat": 4,
 "nbformat_minor": 2
}
